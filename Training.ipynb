{
  "nbformat": 4,
  "nbformat_minor": 0,
  "metadata": {
    "colab": {
      "name": "Playground.ipynb",
      "provenance": [],
      "collapsed_sections": []
    },
    "kernelspec": {
      "name": "python3",
      "display_name": "Python 3"
    },
    "accelerator": "GPU"
  },
  "cells": [
    {
      "cell_type": "code",
      "metadata": {
        "id": "ca_vU9TTuffn",
        "colab_type": "code",
        "colab": {}
      },
      "source": [
        "import numpy as np\n",
        "import tensorflow as tf\n",
        "import matplotlib.pyplot as plt\n",
        "import tensorflow.keras\n",
        "from tensorflow.keras.models import load_model\n",
        "from tensorflow.keras import optimizers, models, layers, regularizers, Input\n",
        "from tensorflow.keras.callbacks import EarlyStopping, ModelCheckpoint, ReduceLROnPlateau\n",
        "from tensorflow.keras.utils import plot_model\n",
        "from tensorflow.keras import backend as k\n",
        "\n",
        "device_name = tf.test.gpu_device_name()\n",
        "if device_name != '/device:GPU:0':\n",
        "  raise SystemError('GPU device not found')\n",
        "print('Found GPU at: {}'.format(device_name))\n",
        "\n",
        "try:\n",
        "  imgs = np.load('/content/drive/My Drive/Colab Notebooks/AP_dataset_float1RGB.npz')\n",
        "  x_train = imgs['x_train']\n",
        "  print(np.shape(x_train))\n",
        "  x_val = imgs['x_val']\n",
        "  print(np.shape(x_val))\n",
        "  x_test = imgs['x_test']\n",
        "  print(np.shape(x_test))\n",
        "  y_train = imgs['y_train']\n",
        "  print(np.shape(y_train))\n",
        "  y_val = imgs['y_val']\n",
        "  print(np.shape(y_val))\n",
        "  y_test = imgs['y_test']\n",
        "  print(np.shape(y_test))\n",
        "\n",
        "  '''Cdata = np.load('/content/drive/My Drive/Colab Notebooks/CSlabels.npz')\n",
        "  c_train = Cdata['c_train']\n",
        "  print(np.shape(c_train))\n",
        "  c_val = Cdata['c_val']\n",
        "  print(np.shape(c_val))\n",
        "  c_test= Cdata['c_test']\n",
        "  print(np.shape(c_test))'''\n",
        "except:\n",
        "  print('Drive is not mounted or file paths are wrong.')\n",
        "\n",
        "# BBnet2 = load_model('/content/drive/My Drive/Colab Notebooks/Models/BBnet2.h5')"
      ],
      "execution_count": 0,
      "outputs": []
    },
    {
      "cell_type": "code",
      "metadata": {
        "id": "0W_HTM_be62p",
        "colab_type": "code",
        "colab": {}
      },
      "source": [
        "from google.colab import drive\n",
        "drive.mount('/content/drive')"
      ],
      "execution_count": 0,
      "outputs": []
    },
    {
      "cell_type": "code",
      "metadata": {
        "id": "sVmVAePCwIav",
        "colab_type": "code",
        "colab": {}
      },
      "source": [
        "BBnet2_Base = models.Model(BBnet2.inputs, BBnet2.layers[-3].output)\n",
        "BBnet2_Den64 = BBnet2.layers[-2]\n",
        "BBnet2_Den8 = BBnet2.layers[-1]\n",
        "\n",
        "BBnet2_Base.trainable = False\n",
        "BBnet2_Den64.trainable = False\n",
        "BBnet2_Den8.trainable = False"
      ],
      "execution_count": 0,
      "outputs": []
    },
    {
      "cell_type": "code",
      "metadata": {
        "id": "bCukNxpk5Zw_",
        "colab_type": "code",
        "colab": {}
      },
      "source": [
        "class Train:\n",
        "  def __init__(self, epochs, batch_size, model_name='GateNet',  model_number=None):\n",
        "    self.version = model_number\n",
        "    self.name = model_name\n",
        "    self.epoch = epochs\n",
        "    self.bs = batch_size\n",
        "    self.callbacks = None\n",
        "  \n",
        "  def update_parameters(self, new_epochs, new_bach_size):\n",
        "    self.epoch = new_epochs\n",
        "    self.bs = batch_size\n",
        "\n",
        "  def set_callbacks(self, use_cb=True, e_stop_patience=5, rlr_patience=1, rlr_cool=5, rlr_factor=0.005, rlr_min_delta=0.5):\n",
        "    model_path = '/content/drive/My Drive/Colab Notebooks/Models/' + self.name + str(self.version) + '.h5'\n",
        "    if use_cb:\n",
        "      self.callbacks = [EarlyStopping(monitor='loss', patience=e_stop_patience),\n",
        "                  ModelCheckpoint(filepath=model_path,\n",
        "                                  monitor='val_loss', save_best_only=True),\n",
        "                  ReduceLROnPlateau(monitor='loss', min_delta=rlr_min_delta, cooldown=rlr_cool, factor=rlr_factor, patience=rlr_patience, verbose=1)]\n",
        "    else:\n",
        "      self.callbacks = None\n",
        "\n",
        "  def train(self, x_tra, y_tra, x_v, y_v, x_t, y_t, opt='rmsprop', los='mse', met=['mae'], plot=False):\n",
        "    model_path = '/content/drive/My Drive/Colab Notebooks/Models/' + self.name + str(self.version) + '.h5'\n",
        "    model_graph_path ='/content/drive/My Drive/Colab Notebooks/Models/' + self.name + str(self.version) + 'Graph.png'\n",
        "\n",
        "    if self.name == 'CSnet':\n",
        "      network = CSnet()\n",
        "      network.compile(optimizer=opt, loss=los, metrics=met)\n",
        "    elif self.name == 'BBnet':\n",
        "      network = BBnet()\n",
        "      network.compile(optimizer=opt, loss=los, metrics=met)\n",
        "    if plot:\n",
        "      plot_model(network, show_shapes=False, to_file=model_graph_path)\n",
        "      \n",
        "    training_data = network.fit(x_tra, y_tra, epochs=self.epoch, batch_size=self.bs, validation_data=(x_v, y_v), callbacks=self.callbacks, shuffle=True)\n",
        "    performance = network.evaluate(x_t, y_t, batch_size=self.bs)\n",
        "\n",
        "    t_loss = training_data.history['loss']\n",
        "    v_loss = training_data.history['val_loss']\n",
        "    print('Test MAE:', performance[1])\n",
        "    return t_loss, v_loss, performance"
      ],
      "execution_count": 0,
      "outputs": []
    },
    {
      "cell_type": "code",
      "metadata": {
        "id": "EwGupIdrMKjA",
        "colab_type": "code",
        "colab": {}
      },
      "source": [
        " def ResBlock(X, filter_size, channels): # takes functional input X and performs a Res Block with filter_size and list of Channel sizes\n",
        "    C1, C2, C3 = channels\n",
        "    activation_shortcut = X\n",
        "\n",
        "    Conv1 = layers.Conv2D(C1, 1)(X)\n",
        "    Norm1 = layers.BatchNormalization(axis=-1)(Conv1)\n",
        "    Act1 = layers.Activation('relu')(Norm1)\n",
        "\n",
        "    Conv2 = layers.Conv2D(C2, kernel_size=filter_size, padding='same')(Act1)\n",
        "    Norm2 = layers.BatchNormalization(axis=-1)(Conv2)\n",
        "    Act2 = layers.Activation('relu')(Norm2)\n",
        "\n",
        "    Conv3 = layers.Conv2D(C3, 1)(Act2)\n",
        "    Norm3 = layers.BatchNormalization(axis=-1)(Conv3)\n",
        "    Res = layers.Add()([Norm3, activation_shortcut])\n",
        "    Act3 = layers.Activation('relu')(Res)\n",
        "    return Act3"
      ],
      "execution_count": 0,
      "outputs": []
    },
    {
      "cell_type": "code",
      "metadata": {
        "id": "qHmYNtCQMNPy",
        "colab_type": "code",
        "colab": {}
      },
      "source": [
        "def ConvBlock(X, filter_size, channels, stride=2):\n",
        "    C1, C2, C3 = channels\n",
        "    activation_shortcut = X\n",
        "\n",
        "    Conv1 = layers.Conv2D(C1, 1, strides=stride)(X)\n",
        "    Norm1 = layers.BatchNormalization(axis=-1)(Conv1)\n",
        "    Act1 = layers.Activation('relu')(Norm1)\n",
        "\n",
        "    Conv2 = layers.Conv2D(C2, kernel_size=filter_size, padding='same')(Act1)\n",
        "    Norm2 = layers.BatchNormalization(axis=-1)(Conv2)\n",
        "    Act2 = layers.Activation('relu')(Norm2)\n",
        "\n",
        "    Conv3 = layers.Conv2D(C3, 1)(Act2)\n",
        "    Norm3 = layers.BatchNormalization(axis=-1)(Conv3)\n",
        "\n",
        "    Short_cut = layers.Conv2D(C3, 1, strides=stride)(activation_shortcut)\n",
        "    Short_cut = layers.BatchNormalization(axis=-1)(Short_cut)\n",
        "\n",
        "    Res = layers.Add()([Norm3, Short_cut])\n",
        "    Act3 = layers.Activation('relu')(Res)\n",
        "    return Act3"
      ],
      "execution_count": 0,
      "outputs": []
    },
    {
      "cell_type": "code",
      "metadata": {
        "id": "et3k2v_7MQpt",
        "colab_type": "code",
        "colab": {}
      },
      "source": [
        "def CSnet(): # model 1\n",
        "    img_input = Input(shape=(216, 324, 3), name='GateImageTensor')\n",
        "\n",
        "    X = layers.Conv2D(128, (7, 7), strides=2)(img_input)\n",
        "    x = layers.BatchNormalization(axis=-1)(X)\n",
        "    X = layers.Activation('relu')(X)\n",
        "    X = layers.MaxPooling2D(3, strides=2)(X)\n",
        "\n",
        "    X = ConvBlock(X, 5, [64, 64, 256], 1)\n",
        "    X = ResBlock(X, 3, [64, 64, 256])\n",
        "    X = ResBlock(X, 3, [64, 64, 256])\n",
        "\n",
        "    X = ConvBlock(X, 5, [128, 128, 512], 2)\n",
        "    X = ResBlock(X, 3, [128, 128, 512])\n",
        "    X = ResBlock(X, 3, [128, 128, 512])\n",
        "    X = ResBlock(X, 3, [128, 128, 512])\n",
        "    X = layers.AveragePooling2D(2, padding='same')(X)\n",
        "\n",
        "    X = layers.Flatten()(X)\n",
        "    X = layers.Dense(64, activation='relu')(X)\n",
        "    CS = layers.Dense(1, activation='sigmoid')(X)\n",
        "    network = models.Model(img_input, CS, name='CSnet')\n",
        "    return network"
      ],
      "execution_count": 0,
      "outputs": []
    },
    {
      "cell_type": "code",
      "metadata": {
        "id": "1-HrMrSmzM5m",
        "colab_type": "code",
        "colab": {}
      },
      "source": [
        "def InceptionBlock(X, channels):\n",
        "  branch_a = layers.Conv2D(channels, 1, activation='relu', padding='same', strides=2)(X)\n",
        "\n",
        "  branch_b = layers.Conv2D(channels, 1, activation='relu', padding='same')(X)\n",
        "  branch_b = layers.Conv2D(channels, 3, activation='relu', padding='same', strides=2)(branch_b)\n",
        "\n",
        "  branch_c = layers.AveragePooling2D(3, padding='same', strides=2)(X)\n",
        "  branch_c = layers.Conv2D(channels, 3, activation='relu', padding='same')(branch_c)\n",
        "\n",
        "  branch_d = layers.Conv2D(channels, 1, activation='relu', padding='same')(X)\n",
        "  branch_d = layers.Conv2D(channels, 3, activation='relu', padding='same')(branch_d)\n",
        "  branch_d = layers.Conv2D(channels, 3, activation='relu', padding='same', strides=2)(branch_d)\n",
        "\n",
        "  branch_e = layers.Conv2D(channels, 1, activation='relu', padding='same')(X)\n",
        "  branch_e = layers.Conv2D(channels, 5, activation='relu', padding='same')(branch_e)\n",
        "  branch_e = layers.Conv2D(channels, 5, activaiton='relu', padding='same', strides=2)\n",
        "\n",
        "  output = layers.concatenate([branch_a, branch_b, branch_c, branch_d, branch_e], axis=-1)\n",
        "\n",
        "  return output"
      ],
      "execution_count": 0,
      "outputs": []
    },
    {
      "cell_type": "code",
      "metadata": {
        "id": "JJY577el1byJ",
        "colab_type": "code",
        "colab": {}
      },
      "source": [
        "def BBnet(): # todo add channels\n",
        "  gate_input = Input(shape=(216, 324, 3))\n",
        "\n",
        "  X = layers.Conv2D(128, (7, 7), strides=2)(gate_input)\n",
        "  x = layers.BatchNormalization(axis=-1)(X)\n",
        "  X = layers.Activation('relu')(X)\n",
        "  X = layers.MaxPooling2D(3, strides=2)(X)\n",
        "\n",
        "  X = InceptionBlock(X)\n",
        "  X = layers.BatchNormalization()(X)\n",
        "  X = InceptionBlock(X)\n",
        "  X = layers.BatchNormalization()(X)\n",
        "  X = InceptionBlock(X)\n",
        "  X = layers.BatchNormalization()(X)\n",
        "  X = InceptionBlock(X)\n",
        "  X = layers.BatchNormalization()(X)\n",
        "  X = layers.AveragePooling2D(2, padding='same')(X)\n",
        "\n",
        "  X = layers.Flatten()(X)\n",
        "  X = layers.Dense(64, activation='relu')(X)\n",
        "  BB = layers.Dense(8)(X)\n",
        "\n",
        "  net = models.Model(gate_input, BB, name=BBnet)\n",
        "  return net"
      ],
      "execution_count": 0,
      "outputs": []
    },
    {
      "cell_type": "code",
      "metadata": {
        "id": "u5q0jBo4trVM",
        "colab_type": "code",
        "colab": {}
      },
      "source": [
        "def BBCSnet():\n",
        "  X = BBnet2_Den64(BBnet2_Base.output)\n",
        "  BB = BBnet2_Den8(X)\n",
        "\n",
        "  Y = layers.Dense(64, activation='relu')(BBnet2_Base.output)\n",
        "  Y = layers.BatchNormalization()(Y)\n",
        "  Y = layers.Dense(64, activation='relu')(Y)\n",
        "  Y = layers.BatchNormalization()(Y)\n",
        "  Y = layers.Dense(64, activation='relu')(Y)\n",
        "  CS = layers.Dense(1, activation='sigmoid', name='Confidence')(Y)\n",
        "\n",
        "  net = models.Model(BBnet2_Base.input, [BB, CS], name='BBCSnet')\n",
        "  return net"
      ],
      "execution_count": 0,
      "outputs": []
    },
    {
      "cell_type": "code",
      "metadata": {
        "id": "Z1zaMlyluxy-",
        "colab_type": "code",
        "colab": {}
      },
      "source": [
        "model_path = '/content/drive/My Drive/Colab Notebooks/Models/BBCSnet2.h5'\n",
        "model_graph_path ='/content/drive/My Drive/Colab Notebooks/Models/BBCSnet2Graph.png'\n",
        "\n",
        "callbacks_list = [EarlyStopping(monitor='loss', patience=15),\n",
        "                  ModelCheckpoint(filepath=model_path,\n",
        "                                  monitor='val_loss', save_best_only=True),\n",
        "                  ReduceLROnPlateau(monitor='loss', min_delta=.001, cooldown=15, factor=0.3, patience=1, verbose=1)]\n",
        "\n",
        "network = BBCSnet()\n",
        "network.compile(optimizer='rmsprop', loss=['mse', 'mae'], loss_weights=[.0000001, 1000])\n",
        "# plot_model(network, show_shapes=False, to_file=model_graph_path)\n",
        "\n",
        "training_data = network.fit(x_train, [y_train, c_train], epochs=100, batch_size=32, validation_data=(x_val, [y_val, c_val]), callbacks=callbacks_list, shuffle=True)\n",
        "performance = network.evaluate(x_test , [y_test, c_test], batch_size=32)\n",
        "\n",
        "print(np.shape(performance))\n",
        "print('Test MAE:', performance[1])"
      ],
      "execution_count": 0,
      "outputs": []
    },
    {
      "cell_type": "code",
      "metadata": {
        "id": "NrTomfIXB0Qr",
        "colab_type": "code",
        "colab": {}
      },
      "source": [
        "BBnet3 = Train(100, 32, model_name='BBnet', model_number=6)\n",
        "BBnet3.set_callbacks(rlr_factor=0.002)\n",
        "BBnet3.train(x_train, y_train, x_val, y_val, x_test, y_test, plot=True)"
      ],
      "execution_count": 0,
      "outputs": []
    }
  ]
}