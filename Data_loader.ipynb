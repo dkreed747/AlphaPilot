{
  "nbformat": 4,
  "nbformat_minor": 0,
  "metadata": {
    "kernelspec": {
      "display_name": "Python 3",
      "language": "python",
      "name": "python3"
    },
    "language_info": {
      "codemirror_mode": {
        "name": "ipython",
        "version": 3
      },
      "file_extension": ".py",
      "mimetype": "text/x-python",
      "name": "python",
      "nbconvert_exporter": "python",
      "pygments_lexer": "ipython3",
      "version": "3.5.3"
    },
    "colab": {
      "name": "Data_loader.ipynb",
      "provenance": []
    }
  },
  "cells": [
    {
      "cell_type": "code",
      "metadata": {
        "id": "e101V4v75MZy",
        "colab_type": "code",
        "colab": {}
      },
      "source": [
        "from keras_preprocessing import image as i\n",
        "import numpy as np\n",
        "import json\n",
        "from os import listdir\n",
        "import zipfile\n",
        "import sys"
      ],
      "execution_count": 0,
      "outputs": []
    },
    {
      "cell_type": "code",
      "metadata": {
        "id": "0nGM-iKNahAt",
        "colab_type": "code",
        "colab": {}
      },
      "source": [
        "z_path = '/content/drive/My Drive/Colab Notebooks/AP_LB_Images/Data_LeaderboardTesting.zip'\n",
        "ex_path = '/content/drive/My Drive/Colab Notebooks/AP_LB_Images/'\n",
        "with zipfile.ZipFile(z_path, 'r') as zip_ref:\n",
        "    zip_ref.extractall(ex_path)"
      ],
      "execution_count": 0,
      "outputs": []
    },
    {
      "cell_type": "code",
      "metadata": {
        "id": "AgaWzT4n5MZ3",
        "colab_type": "code",
        "colab": {}
      },
      "source": [
        "def load_labels(path):\n",
        "    json_data = open(path)\n",
        "    data = json.load(json_data)\n",
        "    json_data.close()\n",
        "    return data"
      ],
      "execution_count": 0,
      "outputs": []
    },
    {
      "cell_type": "code",
      "metadata": {
        "id": "bFsmMBtg5MZ5",
        "colab_type": "code",
        "colab": {}
      },
      "source": [
        "def load_data_tuple(path):\n",
        "    file = listdir(path)\n",
        "    print('images in file:', len(file))\n",
        "    arr_list =[]\n",
        "    # lab_list = []\n",
        "    c = 0\n",
        "    for pic in file:\n",
        "        if pic != '.ipynb_checkpoints':\n",
        "            img = i.load_img(path + pic, target_size=(216, 324))\n",
        "            arr = i.img_to_array(img, dtype='float32')\n",
        "            arr = arr[np.newaxis, :, :, :]\n",
        "            # lab = np.asarray(labels[pic])\n",
        "            # lab = lab.astype('float32') / 4\n",
        "            # lab_list.append(lab)\n",
        "            arr_list.append(arr)\n",
        "            sys.stdout.write('\\rLoading Image: ' + str(c + 1) + '/' + str(len(file)))\n",
        "            sys.stdout.flush()\n",
        "            c += 1\n",
        "    print('Creating Tensor')\n",
        "    img_tensor = np.concatenate(arr_list, axis=0)\n",
        "    # lab_tensor = np.concatenate(lab_list, axis=0)\n",
        "    return img_tensor # , lab_tensor"
      ],
      "execution_count": 0,
      "outputs": []
    },
    {
      "cell_type": "code",
      "metadata": {
        "id": "M2Btm5fi5MZ7",
        "colab_type": "code",
        "outputId": "de4d093f-4d82-4089-e553-f8833c2be7a2",
        "colab": {
          "base_uri": "https://localhost:8080/",
          "height": 317
        }
      },
      "source": [
        "# labels = load_labels('Data/Gate_Labels/AP_training_labels.json')\n",
        "# x_train, y_train = load_data_tuple('Data/Gate_Train/', labels)\n",
        "# x_val, y_val = load_data_tuple('Data/Gate_Val/', labels)\n",
        "xL_test = load_data_tuple('/content/drive/My Drive/Colab Notebooks/AP_LB_Images/Data_LeaderboardTesting/')\n",
        "# np.save('/content/drive/My Drive/Colab Notebooks/AP_LB_Dataset.npy', xL_test)"
      ],
      "execution_count": 0,
      "outputs": [
        {
          "output_type": "stream",
          "text": [
            "images in file: 1161\n"
          ],
          "name": "stdout"
        },
        {
          "output_type": "error",
          "ename": "TypeError",
          "evalue": "ignored",
          "traceback": [
            "\u001b[0;31m---------------------------------------------------------------------------\u001b[0m",
            "\u001b[0;31mTypeError\u001b[0m                                 Traceback (most recent call last)",
            "\u001b[0;32m<ipython-input-10-01397a319501>\u001b[0m in \u001b[0;36m<module>\u001b[0;34m()\u001b[0m\n\u001b[0;32m----> 1\u001b[0;31m \u001b[0mxL_test\u001b[0m \u001b[0;34m=\u001b[0m \u001b[0mload_data_tuple\u001b[0m\u001b[0;34m(\u001b[0m\u001b[0;34m'/content/drive/My Drive/Colab Notebooks/AP_LB_Images/Data_LeaderboardTesting/'\u001b[0m\u001b[0;34m)\u001b[0m\u001b[0;34m\u001b[0m\u001b[0;34m\u001b[0m\u001b[0m\n\u001b[0m\u001b[1;32m      2\u001b[0m \u001b[0;31m# np.save('/content/drive/My Drive/Colab Notebooks/AP_LB_Dataset.npy', xL_test)\u001b[0m\u001b[0;34m\u001b[0m\u001b[0;34m\u001b[0m\u001b[0;34m\u001b[0m\u001b[0m\n",
            "\u001b[0;32m<ipython-input-9-43c65a409423>\u001b[0m in \u001b[0;36mload_data_tuple\u001b[0;34m(path)\u001b[0m\n\u001b[1;32m     14\u001b[0m             \u001b[0;31m# lab_list.append(lab)\u001b[0m\u001b[0;34m\u001b[0m\u001b[0;34m\u001b[0m\u001b[0;34m\u001b[0m\u001b[0m\n\u001b[1;32m     15\u001b[0m             \u001b[0marr_list\u001b[0m\u001b[0;34m.\u001b[0m\u001b[0mappend\u001b[0m\u001b[0;34m(\u001b[0m\u001b[0marr\u001b[0m\u001b[0;34m)\u001b[0m\u001b[0;34m\u001b[0m\u001b[0;34m\u001b[0m\u001b[0m\n\u001b[0;32m---> 16\u001b[0;31m             \u001b[0msys\u001b[0m\u001b[0;34m.\u001b[0m\u001b[0mstdout\u001b[0m\u001b[0;34m.\u001b[0m\u001b[0mwrite\u001b[0m\u001b[0;34m(\u001b[0m\u001b[0;34m'\\rLoading Image: '\u001b[0m\u001b[0;34m,\u001b[0m \u001b[0mstr\u001b[0m\u001b[0;34m(\u001b[0m\u001b[0mc\u001b[0m \u001b[0;34m+\u001b[0m \u001b[0;36m1\u001b[0m\u001b[0;34m)\u001b[0m\u001b[0;34m,\u001b[0m \u001b[0;34m'/'\u001b[0m\u001b[0;34m,\u001b[0m \u001b[0mstr\u001b[0m\u001b[0;34m(\u001b[0m\u001b[0mlen\u001b[0m\u001b[0;34m(\u001b[0m\u001b[0mfile\u001b[0m\u001b[0;34m)\u001b[0m\u001b[0;34m)\u001b[0m\u001b[0;34m)\u001b[0m\u001b[0;34m\u001b[0m\u001b[0;34m\u001b[0m\u001b[0m\n\u001b[0m\u001b[1;32m     17\u001b[0m             \u001b[0msys\u001b[0m\u001b[0;34m.\u001b[0m\u001b[0mstdout\u001b[0m\u001b[0;34m.\u001b[0m\u001b[0mflush\u001b[0m\u001b[0;34m(\u001b[0m\u001b[0;34m)\u001b[0m\u001b[0;34m\u001b[0m\u001b[0;34m\u001b[0m\u001b[0m\n\u001b[1;32m     18\u001b[0m             \u001b[0mc\u001b[0m \u001b[0;34m+=\u001b[0m \u001b[0;36m1\u001b[0m\u001b[0;34m\u001b[0m\u001b[0;34m\u001b[0m\u001b[0m\n",
            "\u001b[0;31mTypeError\u001b[0m: write() takes 2 positional arguments but 5 were given"
          ]
        }
      ]
    },
    {
      "cell_type": "code",
      "metadata": {
        "id": "PtlcqgpW5MZ_",
        "colab_type": "code",
        "colab": {}
      },
      "source": [
        ""
      ],
      "execution_count": 0,
      "outputs": []
    }
  ]
}